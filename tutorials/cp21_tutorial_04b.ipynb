{
 "cells": [
  {
   "cell_type": "markdown",
   "id": "informed-nepal",
   "metadata": {},
   "source": [
    "# Computerphysik Programmiertutorial 4b\n",
    "Prof. Dr. Matteo Rizzi und Dr. Markus Schmitt - Institut für Theoretische Physik, Universität zu Köln\n",
    "&nbsp;\n",
    "\n",
    "**ILIAS**: [https://www.ilias.uni-koeln.de/ilias/goto_uk_crs_3862489.html](https://www.ilias.uni-koeln.de/ilias/goto_uk_crs_3862489.html)\n",
    "\n",
    "**Github**: [https://github.com/markusschmitt/compphys2021](https://github.com/markusschmitt/compphys2021)\n",
    "\n",
    "**Inhalt dieses Notebooks**: Numerische Integration, Automatisches Differenzieren, Tabulare Datenstruktur"
   ]
  },
  {
   "cell_type": "markdown",
   "id": "starting-convenience",
   "metadata": {},
   "source": [
    "## Numerische Integration: `Cubature`\n",
    "\n",
    "Algorithmen zur numerischen Integration sind in verschiedenen Julia Paketen implementiert.\n",
    "\n",
    "Ein Beispiel ist das Paket `Cubature`, das [hier](https://github.com/JuliaMath/Cubature.jl) dokumentiert ist. `Cubature` bietet verschiedene Funktionen zur adaptiven numerischen Integration, z.B. `hquadrature` mit dem folgenden Interface:\n",
    "```julia\n",
    "(val,err) = hquadrature(f::Function, xmin::Real, xmax::Real; reltol=1e-8, abstol=0, maxevals=0)\n",
    "```"
   ]
  },
  {
   "cell_type": "code",
   "execution_count": null,
   "id": "taken-verse",
   "metadata": {},
   "outputs": [],
   "source": [
    "using Cubature\n",
    "using PyPlot"
   ]
  },
  {
   "cell_type": "code",
   "execution_count": null,
   "id": "arctic-shepherd",
   "metadata": {},
   "outputs": [],
   "source": []
  },
  {
   "cell_type": "markdown",
   "id": "annual-manufacturer",
   "metadata": {},
   "source": [
    "Berechne das Integral $\\int_{-1}^3 f(x) dx$"
   ]
  },
  {
   "cell_type": "code",
   "execution_count": null,
   "id": "molecular-claim",
   "metadata": {},
   "outputs": [],
   "source": []
  },
  {
   "cell_type": "code",
   "execution_count": null,
   "id": "sweet-skill",
   "metadata": {},
   "outputs": [],
   "source": []
  },
  {
   "cell_type": "markdown",
   "id": "nearby-opening",
   "metadata": {},
   "source": [
    "Adaptive Integrationsalgorithmen sind wichtig um z.B. Integrale von schnell oszillierenden Funktionen zu berechnen. Schauen wir uns als Beispiel $f(x)=\\sin(1/x)$ an:"
   ]
  },
  {
   "cell_type": "code",
   "execution_count": null,
   "id": "phantom-booking",
   "metadata": {
    "scrolled": false
   },
   "outputs": [],
   "source": [
    "f(x)=sin(1.0/x)\n",
    "\n",
    "interval=1e-10:1e-4:3\n",
    "plot(interval,f.(interval))\n",
    "xlabel(\"x\")\n",
    "ylabel(\"sin(1/x)\")"
   ]
  },
  {
   "cell_type": "code",
   "execution_count": null,
   "id": "determined-credits",
   "metadata": {},
   "outputs": [],
   "source": []
  },
  {
   "cell_type": "markdown",
   "id": "arctic-chrome",
   "metadata": {},
   "source": [
    "In diesem Fall spielen die weiteren Parameter eine Rolle, die als **keyword arguments** übergeben werden:"
   ]
  },
  {
   "cell_type": "code",
   "execution_count": null,
   "id": "dense-myrtle",
   "metadata": {
    "scrolled": true
   },
   "outputs": [],
   "source": [
    "for lognsteps in [1,2,3,4,5,6,7,8]\n",
    "    println(hquadrature(f,1e-10,3,reltol=1e-8,maxevals=10^lognsteps))\n",
    "end"
   ]
  },
  {
   "cell_type": "markdown",
   "id": "cathedral-cooperative",
   "metadata": {},
   "source": [
    "## Automatisches Differenzieren: `Zygote`\n",
    "\n",
    "Durch **automatische Differenzierung** können wir die Ableitung beliebiger Funktionen berechnen, siehe Bonusaufgabe in dieser Woche. Ein Paket, das Funktionalität für automatisches Differenzieren bereitstellt ist `Zygote`, das [hier](https://fluxml.ai/Zygote.jl/dev/) dokumentiert ist."
   ]
  },
  {
   "cell_type": "code",
   "execution_count": null,
   "id": "exempt-fourth",
   "metadata": {},
   "outputs": [],
   "source": [
    "using Zygote"
   ]
  },
  {
   "cell_type": "code",
   "execution_count": null,
   "id": "overall-animal",
   "metadata": {},
   "outputs": [],
   "source": []
  },
  {
   "cell_type": "code",
   "execution_count": null,
   "id": "headed-stage",
   "metadata": {
    "scrolled": true
   },
   "outputs": [],
   "source": []
  },
  {
   "cell_type": "markdown",
   "id": "united-polls",
   "metadata": {},
   "source": [
    "Das funktioniert für beliebige Funktionen."
   ]
  },
  {
   "cell_type": "code",
   "execution_count": null,
   "id": "false-myanmar",
   "metadata": {},
   "outputs": [],
   "source": []
  },
  {
   "cell_type": "markdown",
   "id": "combined-chemical",
   "metadata": {},
   "source": [
    "Oder multivariate Funktionen (dafür benutzen wir die `gradient` Funktion des `Zygote` Pakets):"
   ]
  },
  {
   "cell_type": "code",
   "execution_count": null,
   "id": "realistic-revolution",
   "metadata": {
    "scrolled": true
   },
   "outputs": [],
   "source": []
  },
  {
   "cell_type": "markdown",
   "id": "coated-basket",
   "metadata": {},
   "source": [
    "## Hantieren mit Daten: `DataFrames` und `CSV`/`CSVFiles`\n",
    "\n",
    "`DataFrames` stellt eine Datenstruktur für tabulare Daten zur Verfügung ([Dokumentation](https://dataframes.juliadata.org/stable/man/working_with_dataframes/)).\n",
    "\n",
    "Mit `CSV` und `CSVFiles` können tabulare Daten importiert und exportiert werden."
   ]
  },
  {
   "cell_type": "code",
   "execution_count": null,
   "id": "finnish-evidence",
   "metadata": {},
   "outputs": [],
   "source": [
    "using DataFrames\n",
    "using CSV\n",
    "using CSVFiles"
   ]
  },
  {
   "cell_type": "markdown",
   "id": "intelligent-crest",
   "metadata": {},
   "source": [
    "Ein DataFrame kann zum Beispiel so erstellt werden:"
   ]
  },
  {
   "cell_type": "code",
   "execution_count": null,
   "id": "potential-preliminary",
   "metadata": {
    "scrolled": true
   },
   "outputs": [],
   "source": [
    "data=DataFrame(Name=[\"Hans\", \"Anna\", \"Klaus\", \"Petra\"], Alter=[55,23,124,3],Geschlecht=[\"M\",\"W\",\"M\",\"W\"])"
   ]
  },
  {
   "cell_type": "markdown",
   "id": "floral-stack",
   "metadata": {},
   "source": [
    "Wir können weitere Zeilen mit `push!` hinzufügen"
   ]
  },
  {
   "cell_type": "code",
   "execution_count": null,
   "id": "fuzzy-luxembourg",
   "metadata": {},
   "outputs": [],
   "source": []
  },
  {
   "cell_type": "markdown",
   "id": "focused-leisure",
   "metadata": {},
   "source": [
    "Es sind viele Funktionen definiert um die Daten in der Tabelle zu verarbeiten (siehe [Dokumentation](https://dataframes.juliadata.org/stable/man/working_with_dataframes/)). Z.B. können wir nur die Frauen aus der Liste heraussuchen:"
   ]
  },
  {
   "cell_type": "code",
   "execution_count": null,
   "id": "expanded-church",
   "metadata": {
    "scrolled": true
   },
   "outputs": [],
   "source": []
  },
  {
   "cell_type": "markdown",
   "id": "latter-instrumentation",
   "metadata": {},
   "source": [
    "Die Tabelle kann mit `CSV.write()` exportiert werden."
   ]
  },
  {
   "cell_type": "code",
   "execution_count": null,
   "id": "welcome-narrative",
   "metadata": {},
   "outputs": [],
   "source": []
  },
  {
   "cell_type": "code",
   "execution_count": null,
   "id": "dated-princeton",
   "metadata": {
    "scrolled": false
   },
   "outputs": [],
   "source": []
  }
 ],
 "metadata": {
  "kernelspec": {
   "display_name": "Julia 1.6.0",
   "language": "julia",
   "name": "julia-1.6"
  },
  "language_info": {
   "file_extension": ".jl",
   "mimetype": "application/julia",
   "name": "julia",
   "version": "1.6.0"
  }
 },
 "nbformat": 4,
 "nbformat_minor": 5
}
