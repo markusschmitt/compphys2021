{
 "cells": [
  {
   "cell_type": "markdown",
   "id": "informed-nepal",
   "metadata": {},
   "source": [
    "# Computerphysik Programmiertutorial 4a\n",
    "Prof. Dr. Matteo Rizzi und Dr. Markus Schmitt - Institut für Theoretische Physik, Universität zu Köln\n",
    "&nbsp;\n",
    "\n",
    "**ILIAS**: [https://www.ilias.uni-koeln.de/ilias/goto_uk_crs_3862489.html](https://www.ilias.uni-koeln.de/ilias/goto_uk_crs_3862489.html)\n",
    "\n",
    "**Github**: [https://github.com/markusschmitt/compphys2021](https://github.com/markusschmitt/compphys2021)\n",
    "\n",
    "**Inhalt dieses Notebooks**: Zeilennumerierung anzeigen, Array-Abstraktionen, Anonyme Funktionen, Rechnen auf dem Rechner: Maschinengenauigkeit, [E] Multiple Dispatch\n",
    "\n",
    "\n",
    "## Zeilennumerierung anzeigen\n",
    "\n",
    "Insbesondere beim Lesen von Fehlermeldungen ist es hilfreich sich die Zeilennumerierung innerhalb der Jupyter Notebook Zellen anzeigen zu lassen. Das geht über das Menü `View -> Toggle Line Numbers` oder den Shortcut `L`."
   ]
  },
  {
   "cell_type": "markdown",
   "id": "toxic-complement",
   "metadata": {},
   "source": [
    "## Array-Abstraktionen (Array Comprehension)\n",
    "\n",
    "Mit Array-Abstraktionen können Arrays oder andere iterierbare Datenstrukturen einfach \"weiterverarbeitet\" werden um daraus neue Arrays zu erzeugen.\n",
    "\n",
    "Syntax:\n",
    "```julia\n",
    "neues_array = [<Anweisung> for <Variable> in <iterierbare Datenstruktur> if <Bedingung>]\n",
    "```\n",
    "\n",
    "Beispiel:"
   ]
  },
  {
   "cell_type": "code",
   "execution_count": null,
   "id": "worth-raising",
   "metadata": {},
   "outputs": [],
   "source": []
  },
  {
   "cell_type": "code",
   "execution_count": null,
   "id": "sought-mozambique",
   "metadata": {
    "scrolled": false
   },
   "outputs": [],
   "source": []
  },
  {
   "cell_type": "markdown",
   "id": "above-converter",
   "metadata": {},
   "source": [
    "## Anonyme Funktionen\n",
    "\n",
    "Bisher haben wir die Funktionendefinition der Form\n",
    "```julia\n",
    "function <Funktionenname>(<Argumente>)\n",
    "    <Anweisungsblock>\n",
    "    return <Rückgabewert>\n",
    "end\n",
    "```\n",
    "kennengelernt. So wird jeder Funktion insbesondere ein *Name* zugewiesen. Alternativ kann man aber auch **anonyme Funktionen** definieren."
   ]
  },
  {
   "cell_type": "code",
   "execution_count": null,
   "id": "neutral-norfolk",
   "metadata": {},
   "outputs": [],
   "source": []
  },
  {
   "cell_type": "markdown",
   "id": "likely-cookbook",
   "metadata": {},
   "source": [
    "Anonyme Funktionen können einer Variablen zugewiesen werden:"
   ]
  },
  {
   "cell_type": "code",
   "execution_count": null,
   "id": "academic-evolution",
   "metadata": {},
   "outputs": [],
   "source": []
  },
  {
   "cell_type": "code",
   "execution_count": null,
   "id": "every-republic",
   "metadata": {},
   "outputs": [],
   "source": []
  },
  {
   "cell_type": "markdown",
   "id": "cutting-animal",
   "metadata": {},
   "source": [
    "Anonyme Funktionen können als Argument an andere Funktionen übergeben werden:"
   ]
  },
  {
   "cell_type": "code",
   "execution_count": null,
   "id": "generous-denial",
   "metadata": {},
   "outputs": [],
   "source": []
  },
  {
   "cell_type": "markdown",
   "id": "available-brave",
   "metadata": {},
   "source": [
    "Genauso können anonyme Funktionen mit mehreren Argumenten definiert werden"
   ]
  },
  {
   "cell_type": "code",
   "execution_count": null,
   "id": "immediate-sculpture",
   "metadata": {},
   "outputs": [],
   "source": []
  },
  {
   "cell_type": "markdown",
   "id": "virgin-coordinate",
   "metadata": {},
   "source": [
    "## Rechnen auf dem Rechner: Maschinengenauigkeit\n",
    "\n",
    "Zahlen werden im Computer in einem Binärcode dargestellt und für jede Zahl steht nur eine begrenzte Anzahl von Bits zur Verfügung. Es können daher weder alle ganzen Zahlen $\\mathbb Z$ noch alle reellen Zahlen $\\mathbb R$ dargestellt werden.\n",
    "\n",
    "### Ganze Zahlen - `Int`\n",
    "\n",
    "Wir haben schon in einem früheren Tutorial gesehen, dass Ganzzahlen in 64 bits als Binärzahlen dargestellt werden. Das ergibt automatisch eine Grenze für die größte darstellbare Zahl. Schauen wir uns diese Grenze an:"
   ]
  },
  {
   "cell_type": "code",
   "execution_count": null,
   "id": "structural-strap",
   "metadata": {},
   "outputs": [],
   "source": []
  },
  {
   "cell_type": "code",
   "execution_count": null,
   "id": "abandoned-destiny",
   "metadata": {},
   "outputs": [],
   "source": []
  },
  {
   "cell_type": "code",
   "execution_count": null,
   "id": "julian-forward",
   "metadata": {},
   "outputs": [],
   "source": []
  },
  {
   "cell_type": "code",
   "execution_count": null,
   "id": "impossible-portugal",
   "metadata": {},
   "outputs": [],
   "source": []
  },
  {
   "cell_type": "markdown",
   "id": "active-antique",
   "metadata": {},
   "source": [
    "Die ganzen Zahlen auf dem Computer sind ein \"Kreis\":"
   ]
  },
  {
   "cell_type": "code",
   "execution_count": null,
   "id": "hispanic-people",
   "metadata": {},
   "outputs": [],
   "source": [
    "start=2^63-4\n",
    "for i in 1:6\n",
    "    println(\"$start + $i = $(start+i)\")\n",
    "end"
   ]
  },
  {
   "cell_type": "markdown",
   "id": "beneficial-median",
   "metadata": {},
   "source": [
    "### Fließkommazahlen - `Float`\n",
    "\n",
    "Auf dem Computer können wir sehr leicht große Summen ausrechnen. Ein Beispiel ist die **Harmonische Reihe**\n",
    "\n",
    "$$H_n=\\sum_{k=1}^n\\frac{1}{k}$$\n",
    "\n",
    "Schreiben wir eine Funktion, die die $n$-te Harmonische Zahl $H_n$ berechnet:"
   ]
  },
  {
   "cell_type": "code",
   "execution_count": null,
   "id": "suspended-greenhouse",
   "metadata": {},
   "outputs": [],
   "source": [
    "function H_forward(n, mytype=Float32)\n",
    "    S = mytype(0.0)\n",
    "    for k in 1:n\n",
    "        S += mytype(1.0)/k\n",
    "    end\n",
    "\n",
    "    return S\n",
    "end\n",
    "    \n",
    "H_forward(1000)"
   ]
  },
  {
   "cell_type": "markdown",
   "id": "nasty-begin",
   "metadata": {},
   "source": [
    "Da Addition kommutativ ist, können wir die Summe in beliebiger Reihenfolge ausrechnen, z.B. auch in umgekehrter Reihenfolge:"
   ]
  },
  {
   "cell_type": "code",
   "execution_count": null,
   "id": "billion-typing",
   "metadata": {},
   "outputs": [],
   "source": [
    "function H_backward(n, mytype=Float32)\n",
    "    S = mytype(0.0)\n",
    "    for k in n:-1:1\n",
    "        S += mytype(1.0)/k\n",
    "    end\n",
    "\n",
    "    return S\n",
    "end\n",
    "    \n",
    "H_backward(1000)"
   ]
  },
  {
   "cell_type": "markdown",
   "id": "beneficial-reverse",
   "metadata": {},
   "source": [
    "Mit unterschiedlicher Reihenfolge der Summation erhalten wir unterschiedliche Ergebnisse!"
   ]
  },
  {
   "cell_type": "code",
   "execution_count": null,
   "id": "advised-chosen",
   "metadata": {
    "scrolled": true
   },
   "outputs": [],
   "source": []
  },
  {
   "cell_type": "markdown",
   "id": "incoming-homeless",
   "metadata": {},
   "source": [
    "Reelle Zahlen werden im Computer als **Fließkommazahlen** behandelt. Das bedeutet, dass sie bezüglich einer festen **Basis** $b$ in **Vorzeichen** $\\pm$, **Mantisse** $m$ und **Exponent** $e$ zerlegt werden. Eine reelle Zahl $r\\in\\mathbb R$ wird also geschrieben als\n",
    "\n",
    "$$r = \\pm m\\times b^e$$\n",
    "\n",
    "Das Vorzeichen wird in einem Bit kodiert, für Mantisse und Exponent steht jeweils eine feste Zahl weiterer Bits zur Verfügung. Das Kodieren der Mantisse in einer begrenzten Anzahl von Bits bedeutet, dass wir bei jeder Zahl nur eine feste Anzahl von **signifikanten Ziffern** kennen. Die begrenzte Anzahl von Bits für den Exponenten bedeutet, dass es wie bei Ganzzahlen auch eine größte und kleinste darstellbare Fließkommazahl gibt.\n",
    "\n",
    "Da der Computer nur mit einer bestimmten Zahl von signifikanten Ziffern rechnet, ist der Unterschied zwischen Zahlen nur begrenzt auflösbar. Diese \"Auflösung\" können wir experimentell bestimmen, indem wir fragen was die kleinste Zahl $\\epsilon$ ist, so dass auf dem Computer $1.0+\\epsilon>1.0$:"
   ]
  },
  {
   "cell_type": "code",
   "execution_count": null,
   "id": "detailed-stanford",
   "metadata": {},
   "outputs": [],
   "source": []
  },
  {
   "cell_type": "markdown",
   "id": "brown-lyric",
   "metadata": {},
   "source": [
    "Die 64 bits des Datentyps `Float64` sind wie folgt aufgeteilt (Bild gestohlen von [benjaminjurke.com](https://benjaminjurke.com/content/articles/2015/loss-of-significance-in-floating-point-computations/)):\n",
    "\n",
    "<img src=\"https://benjaminjurke.com/assets/images/articles/double64_bit_sequence.png\">\n",
    "\n",
    "Wir haben also 1 Bit für das Vorzeichen, 11 Bits kodieren den Exponenten als ganze Zahl zwischen $-1022$ und $1023$. Als Basis wird $b=2$ verwendet. Die darstellbaren Zahlen bewegen sich also (in etwa) zwischen $2^{-1022}\\approx10^{-308}$ und $2^{1023}\\approx10^{308}$. Die übrigen 52 Bits werden verwendet um die Mantisse als \n",
    "\n",
    "$$m=1+\\sum_{n=1}^{52}\\text{bit}_n\\frac{1}{2^n}$$\n",
    "\n",
    "zu kodieren.\n",
    "\n",
    "Die folgende Funktion stellt eine gegebnene Fließkommazahl entsprechend dar."
   ]
  },
  {
   "cell_type": "code",
   "execution_count": null,
   "id": "piano-sport",
   "metadata": {},
   "outputs": [],
   "source": [
    "using Printf\n",
    "\n",
    "function maschinendarstellung(x::Float64)\n",
    "    \n",
    "    bits = bitstring(x)\n",
    "    sgn = bits[1]\n",
    "    exponent = bits[2:12]\n",
    "    mantissa = bits[13:64]\n",
    "    \n",
    "    println(\"Dezimal               | Vorz.  Exponent     Mantisse\")\n",
    "    println(@sprintf(\"%.15e |   %s    %s  %s\", x, sgn, exponent, mantissa))\n",
    "    return nothing\n",
    "end"
   ]
  },
  {
   "cell_type": "markdown",
   "id": "desirable-istanbul",
   "metadata": {},
   "source": [
    "Schauen wir uns also an wie $1+\\epsilon=1$ zustande kommt:"
   ]
  },
  {
   "cell_type": "code",
   "execution_count": null,
   "id": "emotional-trash",
   "metadata": {},
   "outputs": [],
   "source": []
  },
  {
   "cell_type": "code",
   "execution_count": null,
   "id": "subtle-reproduction",
   "metadata": {
    "scrolled": true
   },
   "outputs": [],
   "source": []
  },
  {
   "cell_type": "code",
   "execution_count": null,
   "id": "informed-ideal",
   "metadata": {},
   "outputs": [],
   "source": []
  },
  {
   "cell_type": "markdown",
   "id": "respective-hamilton",
   "metadata": {},
   "source": [
    "**Beim Addieren zweier Zahlen unterschiedlicher Größenordnung geht Information über die kleinere Zahl verloren.** Summationen sollten also immer so durchgeführt werden, dass nur ähnlich große Zahlen miteinander addiert werden.\n",
    "\n",
    "Zurück zur Harmonischen Reihe. Welcher Summationsreihenfolge können wir also trauen? Für großes $n$ gilt\n",
    "\n",
    "$$H_n\\approx\\log(n)+\\gamma+\\frac{1}{2n}-\\frac{1}{12n^2}+\\frac{1}{120n^4}$$\n",
    "\n",
    "mit der Euler-Gamma Konstante $\\gamma$. Wir können also unsere beiden Ergebnisse damit vergleichen:"
   ]
  },
  {
   "cell_type": "code",
   "execution_count": null,
   "id": "elegant-blade",
   "metadata": {
    "scrolled": false
   },
   "outputs": [],
   "source": [
    "using PyPlot\n",
    "\n",
    "function H_approx(n)\n",
    "    n = Float64(n)\n",
    "    return log(n)+Base.MathConstants.eulergamma+1.0/(2n)-1.0/(12n^2)+1.0/(120n^4)\n",
    "end\n",
    "\n",
    "n_werte = [2^n for n in 1:20]\n",
    "\n",
    "Hn_fwd = [H_forward(2^n) for n in 1:20]\n",
    "Hn_bwd = [H_backward(2^n) for n in 1:20]\n",
    "Hn_approx = [H_approx(2^n) for n in 1:20]\n",
    "\n",
    "semilogx(n_werte, abs.(Hn_fwd.-Hn_approx), \"-o\", label=\"forward\")\n",
    "semilogx(n_werte, abs.(Hn_bwd.-Hn_approx), \"-o\", label=\"backward\")\n",
    "xlabel(\"n\")\n",
    "ylabel(\"Differenz\")\n",
    "legend()"
   ]
  },
  {
   "cell_type": "markdown",
   "id": "million-indonesian",
   "metadata": {},
   "source": [
    "## [E] Multiple dispatch\n",
    "\n",
    "Durch **multiple dispatch** können wir Funktionen definieren, deren Verhalten vom *Typ* der Argumente abhängt. Dazu werden Funktionen mit identischem Namen definiert, bei denen der Typ der Argumente durch Anhängen von `::<Datentyp>` spezifiziert ist.\n",
    "\n",
    "Beispiel:"
   ]
  },
  {
   "cell_type": "code",
   "execution_count": null,
   "id": "norman-keyboard",
   "metadata": {},
   "outputs": [],
   "source": [
    "function fun(x::Int64)\n",
    "    println(\"Mein Argument ist vom Typ Int64.\")\n",
    "    println(\"     check: \", typeof(x))\n",
    "end\n",
    "\n",
    "function fun(x::Float64)\n",
    "    println(\"Mein Argument ist vom Typ Float64.\")\n",
    "    println(\"     check: \", typeof(x))\n",
    "end"
   ]
  },
  {
   "cell_type": "code",
   "execution_count": null,
   "id": "grateful-public",
   "metadata": {},
   "outputs": [],
   "source": []
  },
  {
   "cell_type": "code",
   "execution_count": null,
   "id": "attended-chapel",
   "metadata": {
    "scrolled": false
   },
   "outputs": [],
   "source": []
  },
  {
   "cell_type": "code",
   "execution_count": null,
   "id": "loose-pakistan",
   "metadata": {},
   "outputs": [],
   "source": []
  },
  {
   "cell_type": "markdown",
   "id": "developmental-caution",
   "metadata": {},
   "source": [
    "Neben den konkreten Datentypen wie `Int64` oder `Float64` gibt es in Julia auch **abstrakte Datentypen**, durch die alle Datentypen hierarchisch strukturiert werden. Abstrakte Datentypen fassen die konkreten Datentypen in Gruppen zusammen. Beispiele sind `Integer` für ganze Zahlen oder `Number` für alle Zahlen. Ob ein konkreter Datentyp einem abstrakten Datentyp zugeordnet ist, kann man mit dem Operator `<:` überprüfen:"
   ]
  },
  {
   "cell_type": "code",
   "execution_count": null,
   "id": "dried-complement",
   "metadata": {},
   "outputs": [],
   "source": []
  },
  {
   "cell_type": "code",
   "execution_count": null,
   "id": "architectural-shepherd",
   "metadata": {},
   "outputs": [],
   "source": []
  },
  {
   "cell_type": "code",
   "execution_count": null,
   "id": "martial-amendment",
   "metadata": {},
   "outputs": [],
   "source": []
  },
  {
   "cell_type": "code",
   "execution_count": null,
   "id": "duplicate-twins",
   "metadata": {},
   "outputs": [],
   "source": []
  },
  {
   "cell_type": "markdown",
   "id": "billion-chess",
   "metadata": {},
   "source": [
    "Funktionen können auch für abstrakte Datentypen *spezialisiert* werden:"
   ]
  },
  {
   "cell_type": "code",
   "execution_count": null,
   "id": "bottom-finish",
   "metadata": {},
   "outputs": [],
   "source": [
    "function more_fun(x::Integer)\n",
    "    println(\"$x ist eine ganze Zahl vom Typ \", typeof(x)) \n",
    "end\n",
    "\n",
    "more_fun(3)\n",
    "more_fun(Int32(3))"
   ]
  },
  {
   "cell_type": "markdown",
   "id": "robust-appointment",
   "metadata": {},
   "source": [
    "So können wir z.B. unsere Funktion `maschinendarstellung()` von oben auch für den Datentyp `Float32` *spezialisieren*:"
   ]
  },
  {
   "cell_type": "code",
   "execution_count": null,
   "id": "powerful-tracker",
   "metadata": {},
   "outputs": [],
   "source": [
    "using Printf\n",
    "\n",
    "function maschinendarstellung(x::Float32)\n",
    "    \n",
    "    bits = bitstring(x)\n",
    "    sgn = bits[1]\n",
    "    exponent = bits[2:9]    # 8 bits für Exponent\n",
    "    mantissa = bits[10:32]  # 23 bits für Mantisse\n",
    "    \n",
    "    println(\"Dezimal       | Vorz.  Exponent  Mantisse\")\n",
    "    println(@sprintf(\"%.7e |   %s    %s  %s\", x, sgn, exponent, mantissa))\n",
    "    return nothing\n",
    "end"
   ]
  },
  {
   "cell_type": "code",
   "execution_count": null,
   "id": "asian-jurisdiction",
   "metadata": {},
   "outputs": [],
   "source": []
  },
  {
   "cell_type": "code",
   "execution_count": null,
   "id": "desirable-revelation",
   "metadata": {},
   "outputs": [],
   "source": []
  }
 ],
 "metadata": {
  "kernelspec": {
   "display_name": "Julia 1.6.0",
   "language": "julia",
   "name": "julia-1.6"
  },
  "language_info": {
   "file_extension": ".jl",
   "mimetype": "application/julia",
   "name": "julia",
   "version": "1.6.0"
  }
 },
 "nbformat": 4,
 "nbformat_minor": 5
}
