{
 "cells": [
  {
   "cell_type": "markdown",
   "id": "contrary-disaster",
   "metadata": {},
   "source": [
    "# Computerphysik Q&A Session\n",
    "Prof. Dr. Matteo Rizzi und Dr. Markus Schmitt - Institut für Theoretische Physik, Universität zu Köln\n",
    "&nbsp;\n",
    "\n",
    "**ILIAS**: [https://www.ilias.uni-koeln.de/ilias/goto_uk_crs_3862489.html](https://www.ilias.uni-koeln.de/ilias/goto_uk_crs_3862489.html)\n",
    "\n",
    "**Github**: [https://github.com/markusschmitt/compphys2021](https://github.com/markusschmitt/compphys2021)\n",
    "\n",
    "**Inhalt dieses Notebooks**: Lösen der Korteweg-de Vries Gleichung\n",
    "\n",
    "## 0) Korteweg-de Vries Gleichung\n",
    "\n",
    "Diese Übung ist angelehnt an das Paper [\"Applying Explicit Schemes to the Korteweg-de Vries Equation\"](http://www.ccsenet.org/journal/index.php/mas/article/view/46132) (Shahrill et al., *Modern Applied Science* **9** 4 (2015)).\n",
    "\n",
    "Wir wollen folgende nicht-lineare PDE untersuchen, die die propagation von **Wellen in flachem Wasser** beschreibt:\n",
    "\n",
    "$$\\frac{\\partial}{\\partial t}u(x,t)+6 u(x,t)\\frac{\\partial}{\\partial x}u(x,t)+\\frac{\\partial^3}{\\partial x^3}u(x,t)=0$$\n",
    "\n",
    "Wir nehmen für $x$ **periodische Randbedingungen** auf einem Intervall $[-L/2,L/2]$ an, also $u(x,t)=u(x+L,t)$.\n",
    "\n",
    "Eine mögliche **Diskretisierung ergibt die Integrationsvorschrift**\n",
    "\n",
    "$$\n",
    "u_n^{m+1}\n",
    "=\n",
    "u_n^{m-1}\n",
    "-2\\frac{\\Delta t}{\\Delta x}(u_{n+1}^m+u_{n}^m+u_{n-1}^m)(u_{n+1}^m-u_{n-1}^m)\n",
    "-\\frac{\\Delta t}{\\Delta x^3}(u_{n+2}^m-2u_{n+1}^m+2u_{n-1}^m-u_{n+2}^m)\n",
    "$$\n",
    "\n",
    "Diese Vorschrift muss für den ersten Zeitschritt angepasst werden, da in dem Fall $u_n^{m-1}$ nicht definiert ist. Wir ersetzen daher $u_n^{m-1}$ mit $u_n^{m}$ und halbieren den Zeitschritt:\n",
    "\n",
    "$$\n",
    "u_n^{1}\n",
    "=\n",
    "u_n^{0}\n",
    "-\\frac{\\Delta t}{\\Delta x}(u_{n+1}^0+u_{n}^0+u_{n-1}^0)(u_{n+1}^0-u_{n-1}^0)\n",
    "-\\frac{\\Delta t}{2\\Delta x^3}(u_{n+2}^0-2u_{n+1}^0+2u_{n-1}^0-u_{n+2}^0)\n",
    "$$\n",
    "\n",
    "Legen wir erst die Systemparameter fest:"
   ]
  },
  {
   "cell_type": "code",
   "execution_count": null,
   "id": "respective-indicator",
   "metadata": {},
   "outputs": [],
   "source": [
    "L=40    # physikalische Systemgröße\n",
    "N=231   # Zahl der Diskretisierungspunkte\n",
    "\n",
    "x_domain = collect(range(-L//2,L//2,length=N))   # x-Werte für unsere diskrete Lösung\n",
    "\n",
    "dx = float(x_domain[2]-x_domain[1])     # Abstand der x-Werte\n",
    "dt = 2e-4                               # Zeitschritt"
   ]
  },
  {
   "cell_type": "markdown",
   "id": "turkish-remainder",
   "metadata": {},
   "source": [
    "## 1) Anfangsbedingung implementieren\n",
    "\n",
    "Eine interessante Anfangsbedingung ist gegeben durch die Funktion\n",
    "\n",
    "$$u_{k,\\eta_0}(x,0)=2k^2sech^2(kx-\\eta_0)$$\n",
    "\n",
    "Implementiere hier eine Funktion, die als Argumente ein Array von $x$-Werten, und die Parameter $k$ und $\\eta_0$ bekommt und obige Anfangsbedinung zurückgibt:"
   ]
  },
  {
   "cell_type": "code",
   "execution_count": null,
   "id": "flying-australian",
   "metadata": {},
   "outputs": [],
   "source": [
    "using PyPlot\n",
    "\n",
    "function one_soliton(x,k,eta)\n",
    "    \n",
    "    # IMPLEMENTIEREN #\n",
    "    \n",
    "end"
   ]
  },
  {
   "cell_type": "markdown",
   "id": "fabulous-setting",
   "metadata": {},
   "source": [
    "Wie sieht die Anfangsbedingung aus? Erstelle einen Plot der Funktion $u_{k,\\eta_0}(x,0)$ mit $k=1/\\sqrt{2}$ und $\\eta_0=0$ auf dem Intervall `x_domain`, das wir oben definiert haben:"
   ]
  },
  {
   "cell_type": "code",
   "execution_count": null,
   "id": "geological-queen",
   "metadata": {},
   "outputs": [],
   "source": [
    "# IMPLEMENTIEREN #"
   ]
  },
  {
   "cell_type": "markdown",
   "id": "spanish-queens",
   "metadata": {},
   "source": [
    "## 2) Integrationsvorschrift implementieren\n",
    "\n",
    "Die folgende Funktion soll den Integrationsschritt wie oben angegeben durchführen. Dabei entspricht das Argument `u` dem Vektor $u^{m}$ und `v` entspricht $u^{m-1}$.\n",
    "\n",
    "Die Funktion `j(n)` implementiert hierbei die periodischen Randbedingungen. Teste hier wie sie funktioniert:"
   ]
  },
  {
   "cell_type": "code",
   "execution_count": null,
   "id": "skilled-compiler",
   "metadata": {},
   "outputs": [],
   "source": [
    "j=x->1+x%N # Index-Funktion für period. Randbedingungen\n",
    "\n",
    "# Funktion testen:\n",
    "j(N+3)"
   ]
  },
  {
   "cell_type": "markdown",
   "id": "blessed-friendly",
   "metadata": {},
   "source": [
    "Vervollständige die Funktion:"
   ]
  },
  {
   "cell_type": "code",
   "execution_count": null,
   "id": "modified-romantic",
   "metadata": {
    "scrolled": false
   },
   "outputs": [],
   "source": [
    "function step(u, v, dx, dt)\n",
    "    N = length(u)\n",
    "    u_new = zeros(N)\n",
    "    \n",
    "    j=x->1+x%N # Index-Funktion für period. Randbedingungen (wie oben)\n",
    "\n",
    "    for n in 2:length(u)+1\n",
    "        u_new[j(n)] = # IMPLEMENTIEREN #\n",
    "    end\n",
    "\n",
    "    return (u_new, u)\n",
    "end"
   ]
  },
  {
   "cell_type": "markdown",
   "id": "sexual-riding",
   "metadata": {},
   "source": [
    "Implementierung testen: gibt die Funktion etwas sinnvolles zurück?"
   ]
  },
  {
   "cell_type": "code",
   "execution_count": null,
   "id": "aggressive-entrance",
   "metadata": {},
   "outputs": [],
   "source": [
    "u0 = one_soliton(x_domain, 1/sqrt(2), 0)\n",
    "step(u0, u0, dx, dt)"
   ]
  },
  {
   "cell_type": "markdown",
   "id": "prompt-premiere",
   "metadata": {},
   "source": [
    "## 3) DGL lösen\n",
    "\n",
    "Die folgende Schleife Integriert die PDE. Teste folgende Parameter:\n",
    "\n",
    "a) $\\Delta x\\approx0.18, \\Delta t\\approx0.002, k=1/\\sqrt2, \\eta_0=0$\n",
    "\n",
    "b) $\\Delta x\\approx0.08, \\Delta t\\approx0.00019, k=1, \\eta_0=0$\n",
    "\n",
    "c) $\\Delta x\\approx0.05, \\Delta t\\approx0.00004, k=\\sqrt2, \\eta_0=0$\n",
    "\n",
    "Was beobachtest du? Wie hängt das Verhalten von $k$ ab?"
   ]
  },
  {
   "cell_type": "code",
   "execution_count": null,
   "id": "laden-sheet",
   "metadata": {},
   "outputs": [],
   "source": [
    "tmax = 1   # Zeit, bis zu der die DGL gelöst wird\n",
    "t0 = 0.25  # Zeitabstand, bei dem wir Lösungen plotten\n",
    "\n",
    "times = collect(t0:t0:tmax)\n",
    "resultIdx = 1\n",
    "\n",
    "# Plot der Anfangsbedingung\n",
    "plot(x_domain, u0, label=\"t=0\")\n",
    "\n",
    "# Erster Integrationsschritt mit u=v und halbiertem Zeitschritt\n",
    "\n",
    "# IMPLEMENTIEREN #\n",
    "\n",
    "for t in dt:dt:tmax\n",
    "    # Integrationsschritt\n",
    "    \n",
    "    # IMPLEMENTIEREN #\n",
    "    \n",
    "\n",
    "    if t >= times[resultIdx]\n",
    "        # Lösung zur Zeit t plotten\n",
    "        plot(x_domain, u, label=\"t=$t\")\n",
    "        resultIdx += 1\n",
    "    end\n",
    "end\n",
    "\n",
    "legend()"
   ]
  },
  {
   "cell_type": "markdown",
   "id": "useful-wireless",
   "metadata": {},
   "source": [
    "## 4) Doppel-Soliton\n",
    "\n",
    "Was passiert also, wenn wir zwei Solitonen mit unterschiedlicher Geschwindigkeit haben?\n",
    "\n",
    "Implementiere eine Funktion, die Anfangsbedingungen\n",
    "\n",
    "$$u_{k_1,\\eta_1,k_2,\\eta_2}(x,0)=2k_1^2sech^2(k_1x-\\eta_1)+2k_2^2sech^2(k_2x-\\eta_2)$$\n",
    "\n",
    "produziert:"
   ]
  },
  {
   "cell_type": "code",
   "execution_count": null,
   "id": "going-plain",
   "metadata": {},
   "outputs": [],
   "source": [
    "function two_solitons(x,k1,eta1,k2,eta2)\n",
    "    \n",
    "    # IMPLEMENTIEREN #\n",
    "    \n",
    "end\n",
    "\n",
    "N=512\n",
    "\n",
    "x_domain = collect(range(-L//2,L//2,length=N))\n",
    "\n",
    "u0 = two_solitons(x_domain,1/sqrt(8),0,1,-10)\n",
    "\n",
    "plot(x_domain,u0)"
   ]
  },
  {
   "cell_type": "markdown",
   "id": "statistical-colleague",
   "metadata": {},
   "source": [
    "DGL lösen:"
   ]
  },
  {
   "cell_type": "code",
   "execution_count": null,
   "id": "humanitarian-morrison",
   "metadata": {},
   "outputs": [],
   "source": [
    "dt = 2e-5\n",
    "\n",
    "tmax = 6\n",
    "t0 = 0.5\n",
    "times = collect(t0:t0:tmax)\n",
    "\n",
    "resultIdx = 1\n",
    "\n",
    "plot(x_domain, u0, label=\"t=0\")\n",
    "u, v = step(u0, u0, dx, 0.5*dt)\n",
    "\n",
    "for t in dt:dt:tmax\n",
    "    u, v = step(u, v, dx, dt)\n",
    "\n",
    "    if t >= times[resultIdx]\n",
    "        plot(x_domain, u, label=\"t=$t\")\n",
    "        resultIdx += 1\n",
    "    end\n",
    "end\n",
    "\n",
    "legend()"
   ]
  },
  {
   "cell_type": "markdown",
   "id": "closing-gilbert",
   "metadata": {},
   "source": [
    "Die folgende Zelle löst wieder die PDE, füllt dabei aber ein Array `U` mit der Lösung, so dass wir einen heatmap plot in der $x-t$-Ebene machen können:"
   ]
  },
  {
   "cell_type": "code",
   "execution_count": null,
   "id": "roman-plaza",
   "metadata": {},
   "outputs": [],
   "source": [
    "dt = 2e-5\n",
    "\n",
    "u0 = two_solitons(x_domain,1/sqrt(4),0,1,-10)\n",
    "\n",
    "tmax = 10\n",
    "t0 = 0.1\n",
    "times = collect(t0:t0:tmax)\n",
    "\n",
    "U = zeros(length(u0), length(times))\n",
    "\n",
    "resultIdx = 1\n",
    "\n",
    "u, v = step(u0, u0, dx, 0.5*dt)\n",
    "\n",
    "for t in dt:dt:tmax\n",
    "    u, v = step(u, v, dx, dt)\n",
    "\n",
    "    if t >= times[resultIdx]\n",
    "        U[:,resultIdx] = u\n",
    "        resultIdx += 1\n",
    "    end\n",
    "end\n",
    "\n",
    "imshow(U, aspect=\"auto\")\n",
    "xlabel(L\"$t$\")\n",
    "xlabel(L\"$x$\")"
   ]
  }
 ],
 "metadata": {
  "kernelspec": {
   "display_name": "Julia 1.6.0",
   "language": "julia",
   "name": "julia-1.6"
  },
  "language_info": {
   "file_extension": ".jl",
   "mimetype": "application/julia",
   "name": "julia",
   "version": "1.6.0"
  }
 },
 "nbformat": 4,
 "nbformat_minor": 5
}
