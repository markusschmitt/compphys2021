{
 "cells": [
  {
   "cell_type": "markdown",
   "id": "informed-nepal",
   "metadata": {},
   "source": [
    "# Computerphysik Programmiertutorial 8b\n",
    "Prof. Dr. Matteo Rizzi und Dr. Markus Schmitt - Institut für Theoretische Physik, Universität zu Köln\n",
    "&nbsp;\n",
    "\n",
    "**ILIAS**: [https://www.ilias.uni-koeln.de/ilias/goto_uk_crs_3862489.html](https://www.ilias.uni-koeln.de/ilias/goto_uk_crs_3862489.html)\n",
    "\n",
    "**Github**: [https://github.com/markusschmitt/compphys2021](https://github.com/markusschmitt/compphys2021)\n",
    "\n",
    "**Inhalt dieses Notebooks**: Lösen gewöhnlicher Differentialgleichungen (und mehr zum Plotten)\n",
    "\n",
    "# Lösen gewöhnlicher Differentialgleichungen (und mehr zum Plotten)"
   ]
  },
  {
   "cell_type": "code",
   "execution_count": null,
   "id": "demonstrated-morning",
   "metadata": {},
   "outputs": [],
   "source": [
    "using PyPlot\n",
    "using DifferentialEquations"
   ]
  },
  {
   "cell_type": "markdown",
   "id": "overhead-sydney",
   "metadata": {},
   "source": [
    "Wir werden das `DifferentialEquations` Paket benutzen, das [hier](https://diffeq.sciml.ai/stable/) dokumentiert ist.\n",
    "\n",
    "\n",
    "## Gewöhnliche Differentialgleichung erster Ordnung in einer Variable"
   ]
  },
  {
   "cell_type": "markdown",
   "id": "specialized-internet",
   "metadata": {},
   "source": [
    "Allgemein kann eine gewöhnliche Differentialgleichung erster Ordnung geschrieben werden als:\n",
    "\n",
    "$$\\frac{du}{dt}=f(u,p,t)$$\n",
    "\n",
    "Hier steht $p$ für weitere Parameter und $t$ für die Zeit. Das Ziel ist dann für einen gegebenen Anfangswert $u_0=u(t_0)$ die zeitabhängige Lösung $u(t)$ auf einem Intervall $[t_0,t_1]$ zu finden. Diese Probleme werden im `DifferentialEquations` Paket als `ODEProblem` definiert und anschließend gelöst. Die Schritte dazu sind:\n",
    "\n",
    "1. Definieren der DGL: Entspricht dem Definieren einer Funktion $f(u,p,t)$.\n",
    "2. Festlegen der Anfangswerte $u_0$, eines Zeitintervalls $[t_0,t_1]$, und der Parameter $p$ (falls vorhanden).\n",
    "3. Definition eines `ODEProblem`s\n",
    "4. Lösen der Gleichung.\n",
    "\n",
    "**Beispiel:** Radioaktiver Zerfall wird beschrieben durch\n",
    "\n",
    "$$\\frac{du}{dt}=-\\gamma u$$\n",
    "\n",
    "wobei $u$ die Konzentration der Atomsorte ist und $\\gamma$ die Zerfallsrate. Wir betrachten als Beispiel $^{14}C$ mit der Halbwertszeit von etwa 5730 Jahren."
   ]
  },
  {
   "cell_type": "markdown",
   "id": "hourly-guatemala",
   "metadata": {},
   "source": [
    "**Schritt 1:** Definition der DGL"
   ]
  },
  {
   "cell_type": "code",
   "execution_count": null,
   "id": "leading-slovakia",
   "metadata": {},
   "outputs": [],
   "source": []
  },
  {
   "cell_type": "markdown",
   "id": "designed-printing",
   "metadata": {},
   "source": [
    "**Schritt 2:** Festlegen der Anfangswerte, eines Zeitintervalls, und der Parameter"
   ]
  },
  {
   "cell_type": "code",
   "execution_count": null,
   "id": "certified-rally",
   "metadata": {},
   "outputs": [],
   "source": []
  },
  {
   "cell_type": "markdown",
   "id": "spiritual-assurance",
   "metadata": {},
   "source": [
    "**Schritt 3:** Definieren eines ODEProblems"
   ]
  },
  {
   "cell_type": "code",
   "execution_count": null,
   "id": "initial-review",
   "metadata": {},
   "outputs": [],
   "source": []
  },
  {
   "cell_type": "markdown",
   "id": "parallel-swedish",
   "metadata": {},
   "source": [
    "**Schritt 4:** Lösen des Problems"
   ]
  },
  {
   "cell_type": "code",
   "execution_count": null,
   "id": "listed-proposal",
   "metadata": {
    "scrolled": false
   },
   "outputs": [],
   "source": []
  },
  {
   "cell_type": "code",
   "execution_count": null,
   "id": "dietary-dubai",
   "metadata": {},
   "outputs": [],
   "source": []
  },
  {
   "cell_type": "markdown",
   "id": "genuine-nashville",
   "metadata": {},
   "source": [
    "Plotten des Ergebnisses:"
   ]
  },
  {
   "cell_type": "code",
   "execution_count": null,
   "id": "declared-manchester",
   "metadata": {},
   "outputs": [],
   "source": [
    "plot(sol.t, sol.u)\n",
    "xlabel(\"Zeit [a]\")\n",
    "ylabel(L\"$^{14}C$ Konzentration\");"
   ]
  },
  {
   "cell_type": "code",
   "execution_count": null,
   "id": "republican-billion",
   "metadata": {
    "scrolled": false
   },
   "outputs": [],
   "source": [
    "semilogy(sol.t, sol.u)\n",
    "xlabel(\"Zeit [a]\")\n",
    "ylabel(L\"$^{14}C$ Konzentration\");"
   ]
  },
  {
   "cell_type": "markdown",
   "id": "taken-nightlife",
   "metadata": {},
   "source": [
    "## Differentialgleichungen höherer Ordnung\n",
    "\n",
    "Oft interessieren wir uns für DGLs höherer Ordnung, z.b. das Pohl'sche Rad:\n",
    "\n",
    "$$\\ddot\\varphi + \\alpha\\dot\\varphi + \\Omega_0\\varphi=A\\sin(\\Omega_E t)$$\n",
    "\n",
    "Indem wir die Winkelgeschwindigkeit $\\omega=\\dot\\varphi$ einführen, können wir diese DGL als ein System von gekoppelten DGLs erster Ordnung schreiben:\n",
    "\n",
    "$$\n",
    "\\begin{aligned}\n",
    "\\dot\\varphi &= \\omega\\\\\n",
    "\\dot\\omega &= -\\alpha\\omega - \\Omega_0\\varphi + A\\sin(\\Omega_E t)\n",
    "\\end{aligned}\n",
    "$$"
   ]
  },
  {
   "cell_type": "markdown",
   "id": "vocational-kidney",
   "metadata": {},
   "source": [
    "Problem definieren:"
   ]
  },
  {
   "cell_type": "code",
   "execution_count": null,
   "id": "corresponding-manufacturer",
   "metadata": {},
   "outputs": [],
   "source": [
    "function damped_oscillator!(du, u, p, t)\n",
    "    alpha, Omega0, A, OmegaE = p\n",
    "    phi, omega = u\n",
    "    du[1] = omega\n",
    "    du[2] = - alpha * omega - Omega0 * phi + A * sin(OmegaE*t)\n",
    "end\n",
    "\n",
    "u0 = [1,0]\n",
    "tspan = (0,20pi)\n",
    "p = [0.2, 1, 0.3, 0.75]\n",
    "\n",
    "prob = ODEProblem(damped_oscillator!, u0, tspan, p)"
   ]
  },
  {
   "cell_type": "markdown",
   "id": "shared-karaoke",
   "metadata": {},
   "source": [
    "DGL lösen:"
   ]
  },
  {
   "cell_type": "code",
   "execution_count": null,
   "id": "spoken-mexico",
   "metadata": {},
   "outputs": [],
   "source": [
    "sol = solve(prob, saveat=0.05)"
   ]
  },
  {
   "cell_type": "markdown",
   "id": "republican-printer",
   "metadata": {},
   "source": [
    "Plotten mit mehreren Unterplots:"
   ]
  },
  {
   "cell_type": "code",
   "execution_count": null,
   "id": "cutting-wiring",
   "metadata": {
    "scrolled": false
   },
   "outputs": [],
   "source": [
    "fig, ax = subplots(2,1, sharex=true) # Produziere zwei Plots übereinander mit gemeinsamer x-Achse\n",
    "\n",
    "ax[1].plot(sol.t, getindex.(sol.u,1))\n",
    "ax[2].plot(sol.t, getindex.(sol.u,2))\n",
    "\n",
    "# Achsenbeschriftungen\n",
    "xlabel(L\"Zeit $t$\")\n",
    "ax[1].set_ylabel(L\"Auslenkung $\\varphi(t)$\");\n",
    "ax[2].set_ylabel(L\"Winkelgeschwindigkeit $\\omega(t)$\");\n",
    "\n",
    "tight_layout()\n",
    "savefig(\"oszillator.pdf\") # Plot als PDF speichern"
   ]
  },
  {
   "cell_type": "code",
   "execution_count": null,
   "id": "serial-cricket",
   "metadata": {},
   "outputs": [],
   "source": [
    "arr = rand(10)\n",
    "\n",
    "println(arr[3])\n",
    "println(getindex(arr, 3))"
   ]
  },
  {
   "cell_type": "markdown",
   "id": "gross-shell",
   "metadata": {},
   "source": [
    "## Lorenz-Attraktor\n",
    "\n",
    "**Lorenz-Gleichungen** mit Parametern $\\sigma,\\rho,\\beta$:\n",
    "\n",
    "$$\n",
    "\\begin{aligned}\n",
    "\\frac{dx}{dt}&=\\sigma(y-x)\\\\\n",
    "\\frac{dy}{dt}&=x(\\rho-z)-y\\\\\n",
    "\\frac{dz}{dt}&=xy-\\beta z\n",
    "\\end{aligned}\n",
    "$$\n",
    "\n",
    "Wir definieren ein entsprechendes `ODEProblem` mit festen Parametern $\\sigma=10, \\rho=28, \\beta=8/3$"
   ]
  },
  {
   "cell_type": "code",
   "execution_count": null,
   "id": "disciplinary-milan",
   "metadata": {},
   "outputs": [],
   "source": [
    "function lorenz!(du,u,p,t)\n",
    "    du[1] = 10.0*(u[2]-u[1])\n",
    "    du[2] = u[1]*(28.0-u[3]) - u[2]\n",
    "    du[3] = u[1]*u[2] - (8/3)*u[3]\n",
    "end\n",
    "\n",
    "u0 = [1.0;0.0;0.0]\n",
    "tspan = (0.0,100.0)\n",
    "prob = ODEProblem(lorenz!,u0,tspan)\n",
    "\n",
    "sol = solve(prob, saveat=0.01);"
   ]
  },
  {
   "cell_type": "markdown",
   "id": "appointed-iraqi",
   "metadata": {},
   "source": [
    "Separieren der einzelnen Koordinaten aus dem Lösungsobjekt:"
   ]
  },
  {
   "cell_type": "code",
   "execution_count": null,
   "id": "incomplete-hypothesis",
   "metadata": {},
   "outputs": [],
   "source": [
    "ux = getindex.(sol.u,1)\n",
    "uy = getindex.(sol.u,2)\n",
    "uz = getindex.(sol.u,3);"
   ]
  },
  {
   "cell_type": "markdown",
   "id": "understood-innocent",
   "metadata": {},
   "source": [
    "Plotten in 3D:"
   ]
  },
  {
   "cell_type": "code",
   "execution_count": null,
   "id": "upset-profile",
   "metadata": {},
   "outputs": [],
   "source": [
    "pygui(true)\n",
    "plot3D(ux,uy,uz)"
   ]
  }
 ],
 "metadata": {
  "kernelspec": {
   "display_name": "Julia 1.6.0",
   "language": "julia",
   "name": "julia-1.6"
  },
  "language_info": {
   "file_extension": ".jl",
   "mimetype": "application/julia",
   "name": "julia",
   "version": "1.6.0"
  }
 },
 "nbformat": 4,
 "nbformat_minor": 5
}
