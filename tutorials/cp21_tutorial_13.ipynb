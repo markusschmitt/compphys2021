{
 "cells": [
  {
   "cell_type": "markdown",
   "id": "informed-nepal",
   "metadata": {},
   "source": [
    "# Computerphysik Programmiertutorial 13\n",
    "Prof. Dr. Matteo Rizzi und Dr. Markus Schmitt - Institut für Theoretische Physik, Universität zu Köln\n",
    "&nbsp;\n",
    "\n",
    "**ILIAS**: [https://www.ilias.uni-koeln.de/ilias/goto_uk_crs_3862489.html](https://www.ilias.uni-koeln.de/ilias/goto_uk_crs_3862489.html)\n",
    "\n",
    "**Github**: [https://github.com/markusschmitt/compphys2021](https://github.com/markusschmitt/compphys2021)\n",
    "\n",
    "**Inhalt dieses Notebooks**: Cluster finden mit Rekursion, Verkehrssimulation, Herangehensweise für numerische Experimente"
   ]
  },
  {
   "cell_type": "markdown",
   "id": "continuous-atlas",
   "metadata": {},
   "source": [
    "# Cluster finden mit Rekursion\n",
    "\n",
    "Wir wollen in einem zufällig besetzten Quadratgitter den größten zusammenhängenden Cluster finden. Am Ende wollen wir die Clustergröße als Funktion der Besetzungswahrscheinlichkeit untersuchen.\n",
    "\n",
    "Erzeugen wir also zunächst ein Quadratgitter:"
   ]
  },
  {
   "cell_type": "code",
   "execution_count": null,
   "id": "located-forward",
   "metadata": {},
   "outputs": [],
   "source": [
    "using PyPlot, Statistics, Random"
   ]
  },
  {
   "cell_type": "code",
   "execution_count": null,
   "id": "adopted-killing",
   "metadata": {},
   "outputs": [],
   "source": [
    "function get_configuration(N, p)\n",
    "    return reshape([rand()<p for j in 1:N*N], (N,N))\n",
    "end\n",
    "\n",
    "G=get_configuration(10,0.6)\n",
    "\n",
    "imshow(G)\n",
    "axis(\"off\");"
   ]
  },
  {
   "cell_type": "markdown",
   "id": "revolutionary-medline",
   "metadata": {},
   "source": [
    "Die Aufgabe zusammenhängende Cluster zu finden eignet sich gut für eine rekursive Implementierung. \n",
    "\n",
    "Wir arbeiten dafür mit einem weiteren Array `C`, das mit Null initialisiert wird. Dann werden wir die einzelnen Cluster suchen und durchnummerieren. Am Ende soll in `C` auf jedem Gitterplatz, der zu einem Cluster gehört die Nummer des Clusters stehen, oder Null, falls der Platz zu keinem Cluster gehört.\n",
    "\n",
    "Wir schreiben dafür eine Funktion `find_cluster!`, die überprüft ob ein Gitterplatz $i,j$ besetzt ist und ob er bereits zu einem Cluster gehört (also ob `C[i,j]>0`). Falls der Platz besetzt ist, wird die Rekursion beendet. Falls der Gitterplatz nicht besetzt ist, wird er dem aktuellen Cluster hinzugefügt und `find_cluster!` wird für die benachbarten Gitterplätze aufgerufen.\n",
    "\n",
    "Die Funktion soll außerdem direkt die Clustergröße bestimmen, daher zählen wir mit wie viele Gitterplätze hinzugefügt werden und geben die Zahl zurück."
   ]
  },
  {
   "cell_type": "code",
   "execution_count": null,
   "id": "alive-granny",
   "metadata": {},
   "outputs": [],
   "source": [
    "function find_cluster!(clusterIdx, i,j,C,G,step=1)\n",
    "\n",
    "end"
   ]
  },
  {
   "cell_type": "markdown",
   "id": "known-pollution",
   "metadata": {},
   "source": [
    "Test der Funktion:"
   ]
  },
  {
   "cell_type": "code",
   "execution_count": null,
   "id": "adverse-belize",
   "metadata": {},
   "outputs": [],
   "source": [
    "C=zeros(Int, 10,10)\n",
    "\n",
    "find_cluster!(17,1,1,C,G)"
   ]
  },
  {
   "cell_type": "code",
   "execution_count": null,
   "id": "introductory-titanium",
   "metadata": {
    "scrolled": true
   },
   "outputs": [],
   "source": [
    "C"
   ]
  },
  {
   "cell_type": "markdown",
   "id": "recent-endorsement",
   "metadata": {},
   "source": [
    "Um den größten Cluster zu finden, starten wir `find_cluster!` auf jedem Gitterplatz um alle Cluster zu identifizieren. In der Schleife merken wir uns gleich welche die maximale Clustergröße ist."
   ]
  },
  {
   "cell_type": "code",
   "execution_count": null,
   "id": "unknown-central",
   "metadata": {},
   "outputs": [],
   "source": [
    "function find_largest_cluster(G)\n",
    "\n",
    "end\n",
    "\n",
    "maxSize, C = find_largest_cluster(G)"
   ]
  },
  {
   "cell_type": "code",
   "execution_count": null,
   "id": "normal-harmony",
   "metadata": {},
   "outputs": [],
   "source": [
    "imshow(C)\n",
    "axis(\"off\");"
   ]
  },
  {
   "cell_type": "markdown",
   "id": "hispanic-chapter",
   "metadata": {},
   "source": [
    "Jetzt berechnen wir für eine Reihe von Besetzungswahrscheinlichkeiten $p\\in[0,1]$ die maximalen Clustergrößen und tragen sie im Plot auf:"
   ]
  },
  {
   "cell_type": "code",
   "execution_count": null,
   "id": "christian-depth",
   "metadata": {},
   "outputs": [],
   "source": [
    "Random.seed!(42)\n",
    "\n",
    "N=100\n",
    "ps=range(0,1,step=0.05)\n",
    "mean_cluster_sizes=[]\n",
    "\n",
    "for p in ps\n",
    "    tmp_sizes=[]\n",
    "    for j in 1:100\n",
    "        G=get_configuration(N,p)\n",
    "        s, C = find_largest_cluster(G)\n",
    "        push!(tmp_sizes, s)\n",
    "    end\n",
    "    push!(mean_cluster_sizes, mean(tmp_sizes))\n",
    "end\n",
    "\n",
    "plot(ps, mean_cluster_sizes/N^2)\n",
    "xlabel(\"Besetzungswahrscheinlichkeit\")\n",
    "ylabel(\"Normierte Clustergröße\");"
   ]
  },
  {
   "cell_type": "markdown",
   "id": "ranking-clock",
   "metadata": {},
   "source": [
    "# Verkehrssimulation\n",
    "\n",
    "Wir wollen den Verkehrsfluss auf einer einspurigen Straße simulieren und dabei die Abhängigkeit von der Verkehrsdichte $\\rho$ untersuchen.\n",
    "\n",
    "Wir modellieren das Problem wie folgt: Die Straße besteht aus $L$ diskreten Positionen auf einem Ring (periodische Randbedingungen). Jede Position kann leer oder mit einem Fahrzeug besetzt sein. Die Fahrzeuge bewegen sich in diskreten Zeitschritten nach den folgenden Regeln:\n",
    "\n",
    "1. Falls die nächsten zwei Gitterplätze vor einem Fahrzeug frei sind, rückt es um einen Platz vor.\n",
    "2. Falls der nächste Gitterplatz vor einem Fahrzeug frei ist, der übernächste aber besetzt, rückt das Fahrzeug mit einer Wahrscheinlichkeit von $p=0.5$ vor (Bremsen bzw. verzögertes Anfahren).\n",
    "3. Falls der nächste Gitterplatz vor einem Fahrzeug besetzt ist, rückt es nicht vor."
   ]
  },
  {
   "cell_type": "code",
   "execution_count": null,
   "id": "automatic-saudi",
   "metadata": {},
   "outputs": [],
   "source": [
    "function get_initial_config(rho, L)\n",
    "\n",
    "end\n",
    "\n",
    "L=100\n",
    "rho=0.3\n",
    "config = get_initial_config(rho, L)"
   ]
  },
  {
   "cell_type": "code",
   "execution_count": null,
   "id": "vanilla-partner",
   "metadata": {},
   "outputs": [],
   "source": [
    "sum(config)"
   ]
  },
  {
   "cell_type": "markdown",
   "id": "seasonal-bunny",
   "metadata": {},
   "source": [
    "Jetzt implementieren wir eine Funktion, die für eine gegebenen Fahrzeugkonfiguration einen Zeitschritt entsprechend der Regeln durchführt. Gleichzeitig ermittelt die Funktion die Mittlere Geschwindigkeit, also die Zahl der vorgerückten Fahrzeuge geteilt durch die Gesamtzahl an Fahrzeugen."
   ]
  },
  {
   "cell_type": "code",
   "execution_count": null,
   "id": "statutory-jacob",
   "metadata": {},
   "outputs": [],
   "source": [
    "idx(n,L)=1+(n-1)%L\n",
    "\n",
    "function step(config)\n",
    "\n",
    "end"
   ]
  },
  {
   "cell_type": "markdown",
   "id": "positive-signature",
   "metadata": {},
   "source": [
    "Num können wir uns einen \"Film\" des Verkehrsflusses ansehen:"
   ]
  },
  {
   "cell_type": "code",
   "execution_count": null,
   "id": "choice-creek",
   "metadata": {},
   "outputs": [],
   "source": [
    "using Printf\n",
    "\n",
    "function show(rho, L, steps=100)\n",
    "    pygui(true)\n",
    "    config = get_initial_config(rho, L)\n",
    "\n",
    "    axis(\"off\")\n",
    "    for t in 1:steps\n",
    "        config, v = step(config)\n",
    "        imshow(reshape(config,(1,L)))\n",
    "        title(@sprintf(\"Geschwindigkeit: %.2f\", v))\n",
    "        sleep(0.2)\n",
    "    end\n",
    "    pygui(false);\n",
    "    return nothing\n",
    "end\n",
    "\n",
    "show(0.4,100, 100)"
   ]
  },
  {
   "cell_type": "markdown",
   "id": "million-genesis",
   "metadata": {},
   "source": [
    "Bestimme die mittlere Fließgeschwindigkeit in Abhängigkeit von der Verkehrsdichte $\\rho$:"
   ]
  },
  {
   "cell_type": "code",
   "execution_count": null,
   "id": "hazardous-period",
   "metadata": {},
   "outputs": [],
   "source": [
    "Random.seed!(23)\n",
    "\n",
    "rhos=range(0.05,0.95,step=0.05)\n",
    "\n",
    "L=1000\n",
    "\n",
    "v_mean=[]\n",
    "\n",
    "for rho in rhos\n",
    "    config = get_initial_config(rho, L)\n",
    "    v_sum = 0\n",
    "    for t in 1:10000\n",
    "        config, v = step(config)\n",
    "        v_sum += v\n",
    "    end\n",
    "    push!(v_mean, v_sum/10000)\n",
    "end\n",
    "\n",
    "plot(rhos, v_mean);\n",
    "xlabel(\"Verkehrsdichte\")\n",
    "ylabel(\"Fließgeschwindigkeit\");"
   ]
  },
  {
   "cell_type": "markdown",
   "id": "devoted-nicaragua",
   "metadata": {},
   "source": [
    "Typische Situationen: Freie Fahrt und Stau"
   ]
  },
  {
   "cell_type": "code",
   "execution_count": null,
   "id": "sensitive-match",
   "metadata": {},
   "outputs": [],
   "source": [
    "show(0.15,100);"
   ]
  },
  {
   "cell_type": "code",
   "execution_count": null,
   "id": "suited-protein",
   "metadata": {},
   "outputs": [],
   "source": [
    "show(0.8,100);"
   ]
  },
  {
   "cell_type": "markdown",
   "id": "sapphire-petroleum",
   "metadata": {},
   "source": [
    "[Hier](https://www.youtube.com/watch?v=7wm-pZp_mi0]) findet ihr ein Video eines ähnlichen Experiments mit echten Fahrzeugen auf einer einspurigen Fahrbahn, das zeigt wie ein Stau aus dem Nichts entsteht."
   ]
  },
  {
   "cell_type": "markdown",
   "id": "caring-generator",
   "metadata": {},
   "source": [
    "# Problemlösungsalgorithmus für numerische Experimente\n",
    "\n",
    "Numerische Experimente werden schnell komplex. Daher sollte man beim Lösen des Problems schrittweise vorgehen um den Überblick zu behalten und Fehler frühzeitig zu identifizieren:\n",
    "\n",
    "1. Analysieren des Problems: Gleichungen verstehen und numerische Aufgaben identifizieren.\n",
    "2. Zerlegen des Problems in Teilprobleme.\n",
    "3. Lösungen der Teilprobleme implementieren (separate Funktionen).\n",
    "4. Lösungen mit einfachen Beispielen testen.\n",
    "5. Daten produzieren.\n",
    "6. Daten analysieren. Das Ergebnis auf Plausibilität prüfen."
   ]
  }
 ],
 "metadata": {
  "kernelspec": {
   "display_name": "Julia 1.6.0",
   "language": "julia",
   "name": "julia-1.6"
  },
  "language_info": {
   "file_extension": ".jl",
   "mimetype": "application/julia",
   "name": "julia",
   "version": "1.6.0"
  }
 },
 "nbformat": 4,
 "nbformat_minor": 5
}
